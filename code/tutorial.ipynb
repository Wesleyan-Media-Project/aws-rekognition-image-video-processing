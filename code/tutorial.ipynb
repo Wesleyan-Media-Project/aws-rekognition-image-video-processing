{
 "cells": [
  {
   "cell_type": "markdown",
   "id": "c0730e6d",
   "metadata": {},
   "source": [
    "## Load packages and import AWS credentials & resources"
   ]
  },
  {
   "cell_type": "code",
   "execution_count": 13,
   "id": "ea8cad02",
   "metadata": {},
   "outputs": [],
   "source": [
    "import os\n",
    "import boto3\n",
    "import json\n",
    "import sys\n",
    "import time\n",
    "from videoproc import Messenger, VideoProc"
   ]
  },
  {
   "cell_type": "code",
   "execution_count": 14,
   "id": "5b9438b3",
   "metadata": {},
   "outputs": [],
   "source": [
    "# Stored information of AWS credentials, IAM role, S3 bucket where videos are stored\n",
    "\n",
    "with open('secrets/.secrets.json', 'r') as f:\n",
    "    secrets = json.load(f)\n",
    "    \n",
    "with open('secrets/.wmpresource.json', 'r') as f:\n",
    "    resources = json.load(f)\n",
    "\n",
    "with open('secrets/.buckets.json', 'r') as f:\n",
    "    buckets = json.load(f)"
   ]
  },
  {
   "cell_type": "markdown",
   "id": "ddd69e73",
   "metadata": {},
   "source": [
    "## Step 1: Initialize an Amazon video job communication channel (Create an SNS topic and an SQS queue)\n",
    "+ rekognition workflow: https://docs.aws.amazon.com/rekognition/latest/dg/video.html"
   ]
  },
  {
   "cell_type": "markdown",
   "id": "3a9d1ed2",
   "metadata": {},
   "source": [
    "### Load the existing Amazon IAM role and the names of SNS topic and SQS queue we will create"
   ]
  },
  {
   "cell_type": "code",
   "execution_count": 15,
   "id": "8443b30c",
   "metadata": {},
   "outputs": [],
   "source": [
    "roleArn = resources['myrole']\n",
    "topic = resources['mytopic']\n",
    "queue = resources['myqueue']"
   ]
  },
  {
   "cell_type": "code",
   "execution_count": 16,
   "id": "c7467c6e",
   "metadata": {},
   "outputs": [],
   "source": [
    "# if your AWS credentials are already configured\n",
    "sns = boto3.client('sns')\n",
    "sqs = boto3.client('sqs')\n",
    "\n",
    "messenger = Messenger(sns, sqs,roleArn)"
   ]
  },
  {
   "cell_type": "code",
   "execution_count": 17,
   "id": "8f0d111b",
   "metadata": {},
   "outputs": [],
   "source": [
    "messenger.CreateTopicandQueue(topic, queue)"
   ]
  },
  {
   "cell_type": "markdown",
   "id": "ee81e6a8",
   "metadata": {},
   "source": [
    "## Step 2: Conduct video analysis"
   ]
  },
  {
   "cell_type": "markdown",
   "id": "fd89fed4",
   "metadata": {},
   "source": [
    "### Example to extract text/labels/face/face collection information from a single video"
   ]
  },
  {
   "cell_type": "code",
   "execution_count": 18,
   "id": "6dfa406f",
   "metadata": {},
   "outputs": [
    {
     "name": "stdout",
     "output_type": "stream",
     "text": [
      "Start Job Id: efe7111db54269e6e2f3eafe1fe4855a622ac28b91ec6c51def3517ae81a7574\n",
      "........................................\n",
      "..SUCCEEDED\n",
      "Matching Job Found:efe7111db54269e6e2f3eafe1fe4855a622ac28b91ec6c51def3517ae81a7574\n"
     ]
    }
   ],
   "source": [
    "# S3 bucket where videos are stored\n",
    "bucket = buckets['mybucket']\n",
    "\n",
    "\n",
    "# initialize rekognition, SQS and SNS clients\n",
    "rek = boto3.client('rekognition')\n",
    "sqs = boto3.client('sqs')\n",
    "sns = boto3.client('sns')\n",
    "\n",
    "\n",
    "# Specify the video for analysis\n",
    "# video = 'folder-in-bucket/my-video.mp4'\n",
    "\n",
    "video = 'Raw_vids/7qGBpRf9X88_c.mp4'\n",
    "\n",
    "# Run the code below for every video\n",
    "\n",
    "video_analyzer = VideoProc(roleArn, bucket, video, rek, sqs, sns, messenger.sqsQueueUrl, messenger.snsTopicArn)\n",
    "\n",
    "# Use relevant video analysis methods accordingly:\n",
    "\n",
    "video_analyzer.StartTextDetection()\n",
    "# video_analyzer.StartLabelDetection()\n",
    "# video_analyzer.StartFaceDetection()\n",
    "# video_analyzer.StartFaceSearchCollection('mycollection') \n",
    "\n",
    "if video_analyzer.GetSQSMessageSuccess() == True:\n",
    "    \n",
    "    data = video_analyzer.GetTextDetectionResults()\n",
    "#    data = video_analyzer.GetLabelDetectionResults()\n",
    "#    data = video_analyzer.GetFaceDetectionResults()\n",
    "#    data = video_analyzer.GetFaceSearchCollectionResults()\n"
   ]
  },
  {
   "cell_type": "markdown",
   "id": "c33ba954",
   "metadata": {},
   "source": [
    "## Optional Step 3: Delete the SNS topic and SQS queue"
   ]
  },
  {
   "cell_type": "code",
   "execution_count": null,
   "id": "b63dd48d",
   "metadata": {},
   "outputs": [],
   "source": [
    "messenger.DeleteTopicandQueue()"
   ]
  },
  {
   "cell_type": "markdown",
   "id": "85193c70",
   "metadata": {},
   "source": [
    "## Store raw results in an S3 bucket or locally"
   ]
  },
  {
   "cell_type": "markdown",
   "id": "8e86aff2",
   "metadata": {},
   "source": [
    "### Upload raw results to an S3 bucket"
   ]
  },
  {
   "cell_type": "code",
   "execution_count": null,
   "id": "c632d20f",
   "metadata": {},
   "outputs": [],
   "source": [
    "# initialize an S3 resource session\n",
    "\n",
    "bucket = 'bucket-for-results'\n",
    "\n",
    "session = boto3.Session(aws_access_key_id=secrets['access_key_id'], \n",
    "                        aws_secret_access_key=secrets['secret_access_key'], \n",
    "                        region_name='us-east-1')\n",
    "\n",
    "s3 = session.resource('s3')"
   ]
  },
  {
   "cell_type": "code",
   "execution_count": null,
   "id": "43bd7226",
   "metadata": {},
   "outputs": [],
   "source": [
    "import utils\n",
    "\n",
    "# specify filename to indicate destination path in S3 bucket (i.e. the S3 object key)\n",
    "filename = 'OUTFILEPATH.json'\n",
    "\n",
    "# convert to a file-like object\n",
    "data = json.dumps(data)\n",
    "\n",
    "utils.write_to_bucket(data, s3, bucket, filename)"
   ]
  },
  {
   "cell_type": "markdown",
   "id": "9bbbc928",
   "metadata": {},
   "source": [
    "### Save raw results locally"
   ]
  },
  {
   "cell_type": "code",
   "execution_count": null,
   "id": "89caa45a",
   "metadata": {},
   "outputs": [],
   "source": [
    "# specify outfile path locations\n",
    "\n",
    "outfile = 'OUTFILEPATH.json'\n",
    "\n",
    "with open(outfile, 'w+') as f: \n",
    "    json.dump(data, f)"
   ]
  },
  {
   "cell_type": "markdown",
   "id": "91b745d3",
   "metadata": {},
   "source": [
    "## Parse raw results for WMP variables"
   ]
  },
  {
   "cell_type": "markdown",
   "id": "695dae79",
   "metadata": {},
   "source": [
    "### Retrieve detected lines in each video (values for variable \"aws_ocr_video_text\")"
   ]
  },
  {
   "cell_type": "code",
   "execution_count": 19,
   "id": "12187a23",
   "metadata": {},
   "outputs": [],
   "source": [
    "import utils"
   ]
  },
  {
   "cell_type": "code",
   "execution_count": 20,
   "id": "ac5c3848",
   "metadata": {},
   "outputs": [
    {
     "data": {
      "text/plain": [
       "\"- -;O;000;$500\\n000;$500,\\n000;CAREER\\nPOLITICAN\\nSTEVE DOYLE;STEVE DOYLE\\nNO\\nA PARENT'S\\nRIGHT TO\\nDECIDE;STEVE DOYLE\\nPAY\\nINC\\nPEOPLE REFUSING\\nTO WORK;PAYING PEOPLE REFUSING\\nSTEVE\\nDOYLE\\nTO WORK;STEVE DOYLE\\nPAY\\nING\\nPEOPLE REFUSING\\nTO WORK;PAYING PEOPLE REFUSING\\nSTEVE DOYLE\\nTO WORK;VE\\nYLE\\nTHIRTY\\nPAID FOR BY THE AMERICAN FEDERATION FOR CHILDREN ACTION FUND - WISCONSIN IE COMMITTEE\\nNOT AUTHORIZED BY ANY CANDIDATE OR CANDIDATE'S AGENT OR COMMITTEE.;STEVE\\nDOYLE\\nTHIRTY FIVE\\nYEARS IS ENOUGH\\nPAID FOR BY THE AMERICAN FEDERATION FOR CHILDREN ACTION FUND - WISCONSIN IE COMMITTEE\\nNOT AUTHORIZED BY ANY CANDIDATE OR CANDIDATE'S AGENT OR COMMITTEE.\""
      ]
     },
     "execution_count": 20,
     "metadata": {},
     "output_type": "execute_result"
    }
   ],
   "source": [
    "# Get this value for every video \n",
    "utils.concat_unique_lines(data) # data is resutls from video_analyzer.GetTextDetectionResults()"
   ]
  },
  {
   "cell_type": "markdown",
   "id": "4896acfb",
   "metadata": {},
   "source": [
    "### Retrieve persons who matched WMP candidate list (variable \"aws_face_vid\")"
   ]
  },
  {
   "cell_type": "code",
   "execution_count": 11,
   "id": "e9d74262",
   "metadata": {},
   "outputs": [],
   "source": [
    "import utils"
   ]
  },
  {
   "cell_type": "code",
   "execution_count": 12,
   "id": "6eca7c98",
   "metadata": {},
   "outputs": [
    {
     "data": {
      "text/plain": [
       "['WMPID1073', 'WMPID1072']"
      ]
     },
     "execution_count": 12,
     "metadata": {},
     "output_type": "execute_result"
    }
   ],
   "source": [
    "# Get matched candidate ID for every video, if matches exist\n",
    "utils.get_candidate_matches(data) # data is results from video_analyzer.GetFaceSearchCollectionResults()"
   ]
  },
  {
   "cell_type": "code",
   "execution_count": null,
   "id": "7e9453a8",
   "metadata": {},
   "outputs": [],
   "source": []
  }
 ],
 "metadata": {
  "kernelspec": {
   "display_name": "Python 3 (ipykernel)",
   "language": "python",
   "name": "python3"
  },
  "language_info": {
   "codemirror_mode": {
    "name": "ipython",
    "version": 3
   },
   "file_extension": ".py",
   "mimetype": "text/x-python",
   "name": "python",
   "nbconvert_exporter": "python",
   "pygments_lexer": "ipython3",
   "version": "3.11.4"
  }
 },
 "nbformat": 4,
 "nbformat_minor": 5
}
