{
 "cells": [
  {
   "cell_type": "markdown",
   "id": "79e1d372",
   "metadata": {},
   "source": [
    "### This notebook provides a walkthrough to create a face collection on Amazon Rekognition intended for identifying persons of interest (candidates) in image and video ads"
   ]
  },
  {
   "cell_type": "code",
   "execution_count": null,
   "id": "5b0ac4d5",
   "metadata": {},
   "outputs": [],
   "source": [
    "import boto3"
   ]
  },
  {
   "cell_type": "markdown",
   "id": "877c4d30",
   "metadata": {},
   "source": [
    "## Create a face collection"
   ]
  },
  {
   "cell_type": "code",
   "execution_count": null,
   "id": "3485498d",
   "metadata": {},
   "outputs": [],
   "source": [
    "bucket = 'my-bucket'\n",
    "\n",
    "collection_id = 'mycollectionName'"
   ]
  },
  {
   "cell_type": "code",
   "execution_count": null,
   "id": "5e5adae8",
   "metadata": {},
   "outputs": [],
   "source": [
    "rek = boto3.client('rekognition') "
   ]
  },
  {
   "cell_type": "code",
   "execution_count": null,
   "id": "32b5bfc2",
   "metadata": {},
   "outputs": [],
   "source": [
    "rek.create_collection(CollectionId=collection_id)"
   ]
  },
  {
   "cell_type": "markdown",
   "id": "60707465",
   "metadata": {},
   "source": [
    "## Add faces to new collection\n",
    "+ Make sure photos of faces have already been uploaded to destination Amazon S3 bucket"
   ]
  },
  {
   "cell_type": "code",
   "execution_count": null,
   "id": "3ea78f92",
   "metadata": {},
   "outputs": [],
   "source": [
    "def add_faces_to_collections(client, bucket, photo_key, face_id, collection_id, maxFaces=1):\n",
    "    '''\n",
    "    Adds individual photos and their identifiers to face collection\n",
    "    \n",
    "    Params: \n",
    "        client: a Rekognition client instance\n",
    "        bucket: Amazon S3 bucket where photo of person's face is stored\n",
    "        photo key: S3 object key for photo\n",
    "        face_id: person identifier of the face (e.g. person's WMPID)\n",
    "        collection_id: existing face collection id\n",
    "        maxFaces: max faces to be identified in photo. Equals 1 if we are uploading single-person photos\n",
    "    \n",
    "    Returns: \n",
    "        response: Face records of Rekognition IndexFaces. \n",
    "    '''\n",
    "    response = client.index_faces(CollectionId=collection_id,\n",
    "                                 Image={'S3Object': {'Bucket': bucket, 'Name': photo_key}},\n",
    "                                 ExternalImageId=face_id,\n",
    "                                 MaxFaces=maxFaces,\n",
    "                                 QualityFilter='AUTO',\n",
    "                                 DetectionAttributes=['ALL'])\n",
    "    return response"
   ]
  },
  {
   "cell_type": "code",
   "execution_count": null,
   "id": "5bb064c9",
   "metadata": {},
   "outputs": [],
   "source": [
    "# upload a single face from S3 bucket to face collection and return identifie face records \n",
    "image = 'folder-in-bucket/image-key.png'\n",
    "face_id = 'WMPID12345'\n",
    "\n",
    "response = add_faces_to_collections(rek, bucket, image, face_id, collection_id)\n",
    "\n",
    "# use a loop to add all faces and their identifiers to be included in the collection"
   ]
  },
  {
   "cell_type": "markdown",
   "id": "d0941fcf",
   "metadata": {},
   "source": [
    "## Check the list of faces in new collection"
   ]
  },
  {
   "cell_type": "code",
   "execution_count": null,
   "id": "70955e55",
   "metadata": {},
   "outputs": [],
   "source": [
    "rek.list_faces(CollectionId=COLLECTION_ID)"
   ]
  },
  {
   "cell_type": "markdown",
   "id": "b61fcdc5",
   "metadata": {},
   "source": [
    "## Delete face collection (if needed)"
   ]
  },
  {
   "cell_type": "code",
   "execution_count": null,
   "id": "80dfd936",
   "metadata": {},
   "outputs": [],
   "source": [
    "rek.delete_collection(CollectionId=collection_id)"
   ]
  }
 ],
 "metadata": {
  "kernelspec": {
   "display_name": "Python 3 (ipykernel)",
   "language": "python",
   "name": "python3"
  },
  "language_info": {
   "codemirror_mode": {
    "name": "ipython",
    "version": 3
   },
   "file_extension": ".py",
   "mimetype": "text/x-python",
   "name": "python",
   "nbconvert_exporter": "python",
   "pygments_lexer": "ipython3",
   "version": "3.11.4"
  }
 },
 "nbformat": 4,
 "nbformat_minor": 5
}
