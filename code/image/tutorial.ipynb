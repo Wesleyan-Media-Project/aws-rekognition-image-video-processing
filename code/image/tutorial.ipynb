{
 "cells": [
  {
   "cell_type": "markdown",
   "id": "2cb6d3ad",
   "metadata": {},
   "source": [
    "## Load modules and my S3 bucket information"
   ]
  },
  {
   "cell_type": "code",
   "execution_count": 1,
   "id": "cd7a4eee",
   "metadata": {},
   "outputs": [],
   "source": [
    "import os\n",
    "import json\n",
    "import boto3\n",
    "from botocore.exceptions import ClientError\n",
    "import imageproc\n",
    "from imageproc import ImageProc"
   ]
  },
  {
   "cell_type": "code",
   "execution_count": 2,
   "id": "acdd5184",
   "metadata": {},
   "outputs": [],
   "source": [
    "with open('../secrets/.buckets.json', 'r') as f:\n",
    "    buckets=json.load(f)"
   ]
  },
  {
   "cell_type": "code",
   "execution_count": 3,
   "id": "6e9dfdf0",
   "metadata": {},
   "outputs": [],
   "source": [
    "# Amazon S3 bucket where my images are stored\n",
    "bucket = buckets['wmp-bucket']"
   ]
  },
  {
   "cell_type": "markdown",
   "id": "2df844ce",
   "metadata": {},
   "source": [
    "## Process images\n",
    "\n",
    "Demo for processing a single image (detect text, faces or search faces in a collection)"
   ]
  },
  {
   "cell_type": "markdown",
   "id": "d84ba31d",
   "metadata": {},
   "source": [
    "###  Prepare input "
   ]
  },
  {
   "cell_type": "code",
   "execution_count": 5,
   "id": "ca96f7b1",
   "metadata": {},
   "outputs": [],
   "source": [
    "# Establish a rekognition client (when your AWS credentials are already configured)\n",
    "client = boto3.client('rekognition')"
   ]
  },
  {
   "cell_type": "code",
   "execution_count": 6,
   "id": "094eb7c1",
   "metadata": {},
   "outputs": [],
   "source": [
    "# Prerequisite: images are stored in an Amazon S3 bucket\n",
    "\n",
    "# Prepare image data as their S3 object information: bucket name and object key\n",
    "\n",
    "key = 'my-image-key.jpg'\n",
    "\n",
    "image = {'S3Object': {'Bucket': bucket, 'Name': key}}"
   ]
  },
  {
   "cell_type": "markdown",
   "id": "3acf74c3",
   "metadata": {},
   "source": [
    "### Request and retrieve image analysis results from Rekognition API"
   ]
  },
  {
   "cell_type": "code",
   "execution_count": 7,
   "id": "64a86066",
   "metadata": {},
   "outputs": [],
   "source": [
    "# Initialize the Rekognition Image wrapper\n",
    "rek = ImageProc(image, client)\n",
    "\n",
    "# To detect text from image\n",
    "response = rek.detect_text()\n",
    "\n",
    "# To detect faces and facial attributes from image\n",
    "response = rek.detect_faces()\n",
    "\n",
    "# To search for faces that matches an existing face collection\n",
    "response = rek.search_faces('mycollection')\n",
    "\n",
    "# response returns a dictionary of desired output"
   ]
  },
  {
   "cell_type": "markdown",
   "id": "e42a747f",
   "metadata": {},
   "source": [
    "### Save responses locally or in S3 bucket"
   ]
  },
  {
   "cell_type": "code",
   "execution_count": null,
   "id": "14edabe8",
   "metadata": {},
   "outputs": [],
   "source": [
    "# To save a response in an S3 bucket\n",
    "\n",
    "bucket = 'my-bucket'\n",
    "\n",
    "# Create an S3 resource session\n",
    "session = boto3.Session(aws_access_key_id='access_key_id', \n",
    "                        aws_secret_access_key='secret_access_key', \n",
    "                        region_name='us-east-1')\n",
    "\n",
    "\n",
    "s3 = session.resource('s3')\n",
    "\n",
    "\n",
    "# Convert response to file-like object\n",
    "data = json.dumps(response)\n",
    "\n",
    "# Create an S3 object to hold results \n",
    "\n",
    "filename = 'filename.png' # file path in bucket\n",
    "\n",
    "obj = s3_resource.Object(bucket, filename)\n",
    "    \n",
    "results = obj.put(Body=data)"
   ]
  },
  {
   "cell_type": "markdown",
   "id": "69b950a3",
   "metadata": {},
   "source": [
    "## Parse WMP variables"
   ]
  },
  {
   "cell_type": "markdown",
   "id": "521aa94d",
   "metadata": {},
   "source": [
    "### Extract text from images (variable: aws_ocr_img_text)"
   ]
  },
  {
   "cell_type": "code",
   "execution_count": 8,
   "id": "f515fd17",
   "metadata": {},
   "outputs": [
    {
     "data": {
      "text/plain": [
       "'ARIZONANS;DESERVE;A CONGRESSMAN WHO SHARES;their values;LEARN MORE;BRANDON;MARTIN;U.S. CONGRESS'"
      ]
     },
     "execution_count": 8,
     "metadata": {},
     "output_type": "execute_result"
    }
   ],
   "source": [
    "# call function from module imageproc to get value for \"aws_ocr_img_text\"\n",
    "imageproc.parse_text_detection(rek.detect_text())"
   ]
  },
  {
   "cell_type": "markdown",
   "id": "4cdde44e",
   "metadata": {},
   "source": [
    "### Extract text from images (variable: aws_face_img)"
   ]
  },
  {
   "cell_type": "code",
   "execution_count": 11,
   "id": "1a7a9218",
   "metadata": {},
   "outputs": [
    {
     "data": {
      "text/plain": [
       "'WMPID256;WMPID1259'"
      ]
     },
     "execution_count": 11,
     "metadata": {},
     "output_type": "execute_result"
    }
   ],
   "source": [
    "# call function from module imageproc to get value for \"aws_face_img\"\n",
    "imageproc.parse_matched_persons(rek.search_faces('face2022', maxFaces=2))"
   ]
  },
  {
   "cell_type": "code",
   "execution_count": null,
   "id": "338a60ff",
   "metadata": {},
   "outputs": [],
   "source": []
  }
 ],
 "metadata": {
  "kernelspec": {
   "display_name": "Python 3 (ipykernel)",
   "language": "python",
   "name": "python3"
  },
  "language_info": {
   "codemirror_mode": {
    "name": "ipython",
    "version": 3
   },
   "file_extension": ".py",
   "mimetype": "text/x-python",
   "name": "python",
   "nbconvert_exporter": "python",
   "pygments_lexer": "ipython3",
   "version": "3.11.4"
  }
 },
 "nbformat": 4,
 "nbformat_minor": 5
}
